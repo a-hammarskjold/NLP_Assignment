{
 "cells": [
  {
   "cell_type": "markdown",
   "id": "behavioral-entry",
   "metadata": {},
   "source": [
    "# Assignment 3\n",
    "\n",
    "**Due Wednesday, November 3**"
   ]
  },
  {
   "cell_type": "markdown",
   "id": "unsigned-onion",
   "metadata": {},
   "source": [
    "Use the gender_by_name.csv file you produced in assignment 1 to classify gender by name.\n",
    "\n",
    "I used a 80/20 split, and got accuracy scores around 0.9."
   ]
  },
  {
   "cell_type": "code",
   "execution_count": 1,
   "id": "sensitive-repair",
   "metadata": {},
   "outputs": [],
   "source": [
    "import pandas as pd\n",
    "import numpy as np\n",
    "\n",
    "from sklearn.model_selection import train_test_split as tts\n",
    "from sklearn.linear_model import SGDClassifier\n",
    "from sklearn.linear_model import LogisticRegression\n",
    "from sklearn.feature_extraction import DictVectorizer\n",
    "\n",
    "from sklearn.metrics import accuracy_score,confusion_matrix"
   ]
  },
  {
   "cell_type": "code",
   "execution_count": 2,
   "id": "august-contrary",
   "metadata": {},
   "outputs": [
    {
     "data": {
      "text/html": [
       "<div>\n",
       "<style scoped>\n",
       "    .dataframe tbody tr th:only-of-type {\n",
       "        vertical-align: middle;\n",
       "    }\n",
       "\n",
       "    .dataframe tbody tr th {\n",
       "        vertical-align: top;\n",
       "    }\n",
       "\n",
       "    .dataframe thead th {\n",
       "        text-align: right;\n",
       "    }\n",
       "</style>\n",
       "<table border=\"1\" class=\"dataframe\">\n",
       "  <thead>\n",
       "    <tr style=\"text-align: right;\">\n",
       "      <th></th>\n",
       "      <th>name</th>\n",
       "      <th>prob_f</th>\n",
       "      <th>gender</th>\n",
       "    </tr>\n",
       "  </thead>\n",
       "  <tbody>\n",
       "    <tr>\n",
       "      <th>0</th>\n",
       "      <td>aaban</td>\n",
       "      <td>0.0</td>\n",
       "      <td>m</td>\n",
       "    </tr>\n",
       "    <tr>\n",
       "      <th>1</th>\n",
       "      <td>aabha</td>\n",
       "      <td>1.0</td>\n",
       "      <td>f</td>\n",
       "    </tr>\n",
       "    <tr>\n",
       "      <th>2</th>\n",
       "      <td>aabid</td>\n",
       "      <td>0.0</td>\n",
       "      <td>m</td>\n",
       "    </tr>\n",
       "    <tr>\n",
       "      <th>3</th>\n",
       "      <td>aabidah</td>\n",
       "      <td>1.0</td>\n",
       "      <td>f</td>\n",
       "    </tr>\n",
       "    <tr>\n",
       "      <th>4</th>\n",
       "      <td>aabir</td>\n",
       "      <td>0.0</td>\n",
       "      <td>m</td>\n",
       "    </tr>\n",
       "  </tbody>\n",
       "</table>\n",
       "</div>"
      ],
      "text/plain": [
       "      name  prob_f gender\n",
       "0    aaban     0.0      m\n",
       "1    aabha     1.0      f\n",
       "2    aabid     0.0      m\n",
       "3  aabidah     1.0      f\n",
       "4    aabir     0.0      m"
      ]
     },
     "execution_count": 2,
     "metadata": {},
     "output_type": "execute_result"
    }
   ],
   "source": [
    "gbn = pd.read_csv('/home/acw9163/dsc592/data/gender_by_name.csv')\n",
    "gbn.head()"
   ]
  },
  {
   "cell_type": "code",
   "execution_count": 3,
   "id": "lovely-polymer",
   "metadata": {},
   "outputs": [
    {
     "name": "stdout",
     "output_type": "stream",
     "text": [
      "<class 'pandas.core.frame.DataFrame'>\n",
      "RangeIndex: 98400 entries, 0 to 98399\n",
      "Data columns (total 3 columns):\n",
      " #   Column  Non-Null Count  Dtype  \n",
      "---  ------  --------------  -----  \n",
      " 0   name    98399 non-null  object \n",
      " 1   prob_f  98400 non-null  float64\n",
      " 2   gender  98400 non-null  object \n",
      "dtypes: float64(1), object(2)\n",
      "memory usage: 2.3+ MB\n"
     ]
    }
   ],
   "source": [
    "gbn.info()"
   ]
  },
  {
   "cell_type": "code",
   "execution_count": 4,
   "id": "verbal-insurance",
   "metadata": {},
   "outputs": [],
   "source": [
    "gbn.dropna(inplace=True)"
   ]
  },
  {
   "cell_type": "code",
   "execution_count": 5,
   "id": "public-portugal",
   "metadata": {},
   "outputs": [
    {
     "name": "stdout",
     "output_type": "stream",
     "text": [
      "<class 'pandas.core.frame.DataFrame'>\n",
      "Int64Index: 98399 entries, 0 to 98399\n",
      "Data columns (total 3 columns):\n",
      " #   Column  Non-Null Count  Dtype  \n",
      "---  ------  --------------  -----  \n",
      " 0   name    98399 non-null  object \n",
      " 1   prob_f  98399 non-null  float64\n",
      " 2   gender  98399 non-null  object \n",
      "dtypes: float64(1), object(2)\n",
      "memory usage: 3.0+ MB\n"
     ]
    }
   ],
   "source": [
    "gbn.info()"
   ]
  },
  {
   "cell_type": "code",
   "execution_count": 6,
   "id": "identified-explosion",
   "metadata": {},
   "outputs": [],
   "source": [
    "def ngram(name):\n",
    "    return{\n",
    "        'first':name[0],\n",
    "        'first2':name[0:2],\n",
    "        'first3':name[0:3],\n",
    "        'first4':name[0:4],\n",
    "        'first5':name[0:5],\n",
    "        'last':name[-1],\n",
    "        'last2':name[-2:],\n",
    "        'last3':name[-3:],\n",
    "        'last4':name[-4:],\n",
    "        'last5':name[-5:]\n",
    "    }"
   ]
  },
  {
   "cell_type": "code",
   "execution_count": 7,
   "id": "external-stuff",
   "metadata": {
    "scrolled": true
   },
   "outputs": [
    {
     "data": {
      "text/plain": [
       "array([{'first': 'a', 'first2': 'an', 'first3': 'ant', 'first4': 'antt', 'first5': 'antto', 'last': 'n', 'last2': 'on', 'last3': 'ton', 'last4': 'tton', 'last5': 'ntton'},\n",
       "       {'first': 'm', 'first2': 'mi', 'first3': 'mis', 'first4': 'mist', 'first5': 'misty', 'last': 'y', 'last2': 'ty', 'last3': 'sty', 'last4': 'isty', 'last5': 'misty'},\n",
       "       {'first': 'c', 'first2': 'ca', 'first3': 'car', 'first4': 'carr', 'first5': 'carri', 'last': 'e', 'last2': 'ie', 'last3': 'rie', 'last4': 'rrie', 'last5': 'arrie'},\n",
       "       {'first': 'd', 'first2': 'da', 'first3': 'dan', 'first4': 'dana', 'first5': 'dana', 'last': 'a', 'last2': 'na', 'last3': 'ana', 'last4': 'dana', 'last5': 'dana'},\n",
       "       {'first': 'c', 'first2': 'ci', 'first3': 'cie', 'first4': 'cier', 'first5': 'cierr', 'last': 'a', 'last2': 'ra', 'last3': 'rra', 'last4': 'erra', 'last5': 'ierra'},\n",
       "       {'first': 'b', 'first2': 'bi', 'first3': 'bil', 'first4': 'bill', 'first5': 'bill', 'last': 'l', 'last2': 'll', 'last3': 'ill', 'last4': 'bill', 'last5': 'bill'},\n",
       "       {'first': 't', 'first2': 'to', 'first3': 'ton', 'first4': 'tony', 'first5': 'tony', 'last': 'y', 'last2': 'ny', 'last3': 'ony', 'last4': 'tony', 'last5': 'tony'}],\n",
       "      dtype=object)"
      ]
     },
     "execution_count": 7,
     "metadata": {},
     "output_type": "execute_result"
    }
   ],
   "source": [
    "ngram = np.vectorize(ngram)\n",
    "ngram(['antton','misty','carrie','dana','cierra','bill','tony'])"
   ]
  },
  {
   "cell_type": "code",
   "execution_count": 8,
   "id": "reliable-booth",
   "metadata": {},
   "outputs": [],
   "source": [
    "dv = DictVectorizer()\n",
    "\n",
    "X = ngram(gbn.name)\n",
    "X_trans = dv.fit_transform(X)\n",
    "y = gbn.gender"
   ]
  },
  {
   "cell_type": "code",
   "execution_count": 9,
   "id": "dense-laugh",
   "metadata": {},
   "outputs": [
    {
     "data": {
      "text/plain": [
       "0.896239837398374"
      ]
     },
     "execution_count": 9,
     "metadata": {},
     "output_type": "execute_result"
    }
   ],
   "source": [
    "X_train,X_test,y_train,y_test = tts(X_trans,y,test_size=0.2,random_state=172)\n",
    "\n",
    "clf = SGDClassifier(loss='log',penalty='l2',max_iter=1000,random_state=88)\n",
    "clf.fit(X_train,y_train)\n",
    "pred = clf.predict(X_test)\n",
    "accuracy_score(y_test,pred)"
   ]
  },
  {
   "cell_type": "code",
   "execution_count": 10,
   "id": "differential-florist",
   "metadata": {},
   "outputs": [
    {
     "data": {
      "text/plain": [
       "0.9110772357723578"
      ]
     },
     "execution_count": 10,
     "metadata": {},
     "output_type": "execute_result"
    }
   ],
   "source": [
    "X_train,X_test,y_train,y_test = tts(X_trans,y,test_size=0.2,random_state=172)\n",
    "\n",
    "lr = LogisticRegression(solver='liblinear')\n",
    "lr.fit(X_train,y_train)\n",
    "pred = lr.predict(X_test)\n",
    "accuracy_score(y_test,pred)"
   ]
  },
  {
   "cell_type": "code",
   "execution_count": 11,
   "id": "authorized-august",
   "metadata": {},
   "outputs": [
    {
     "data": {
      "text/plain": [
       "array([[11403,   872],\n",
       "       [  878,  6527]])"
      ]
     },
     "execution_count": 11,
     "metadata": {},
     "output_type": "execute_result"
    }
   ],
   "source": [
    "confusion_matrix(y_test,pred)"
   ]
  },
  {
   "cell_type": "code",
   "execution_count": null,
   "id": "local-creation",
   "metadata": {},
   "outputs": [],
   "source": []
  }
 ],
 "metadata": {
  "kernelspec": {
   "display_name": "Python 3",
   "language": "python",
   "name": "python3"
  },
  "language_info": {
   "codemirror_mode": {
    "name": "ipython",
    "version": 3
   },
   "file_extension": ".py",
   "mimetype": "text/x-python",
   "name": "python",
   "nbconvert_exporter": "python",
   "pygments_lexer": "ipython3",
   "version": "3.8.2"
  },
  "toc": {
   "base_numbering": 1,
   "nav_menu": {},
   "number_sections": true,
   "sideBar": true,
   "skip_h1_title": true,
   "title_cell": "Table of Contents",
   "title_sidebar": "Contents",
   "toc_cell": false,
   "toc_position": {},
   "toc_section_display": true,
   "toc_window_display": false
  }
 },
 "nbformat": 4,
 "nbformat_minor": 5
}
